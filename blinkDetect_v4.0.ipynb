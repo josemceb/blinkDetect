{
 "cells": [
  {
   "cell_type": "code",
   "execution_count": 78,
   "metadata": {
    "collapsed": true
   },
   "outputs": [],
   "source": [
    "import numpy as np\n",
    "import pandas as pd\n",
    "import peakutils\n",
    "\n",
    "from peakutils.plot import plot as pplot\n",
    "import matplotlib.pyplot as plt\n",
    "from pylab import savefig\n",
    "\n",
    "import re\n",
    "import time\n",
    "import os"
   ]
  },
  {
   "cell_type": "code",
   "execution_count": 79,
   "metadata": {
    "collapsed": true
   },
   "outputs": [],
   "source": [
    "%matplotlib inline\n",
    "%config InlineBackend.figure_format = 'retina'"
   ]
  },
  {
   "cell_type": "code",
   "execution_count": 80,
   "metadata": {
    "collapsed": true
   },
   "outputs": [],
   "source": [
    "project = 'BaGELS' # or 'other' for uCLIMB, etc. \n",
    "\n",
    "dataFolder = 'data/'"
   ]
  },
  {
   "cell_type": "code",
   "execution_count": 81,
   "metadata": {
    "collapsed": true
   },
   "outputs": [],
   "source": [
    "def getSubjectNumber(filename):\n",
    "    subjNumberRegex = re.compile('''\n",
    "    # filename will be something like 'OpenBCI-RAW-28211_SBR_Pre1.txt'\n",
    "    # Regex looks for a 5-digit string in the filename\n",
    "    # Separators are inconsistent, so parsing only by continuous digits\n",
    "    (\\d\\d\\d\\d\\d)\n",
    "    ''', re.VERBOSE)\n",
    "\n",
    "    extractSubjNumber = subjNumberRegex.findall(filename)\n",
    "    subjNumber = extractSubjNumber[0]\n",
    "\n",
    "    return subjNumber"
   ]
  },
  {
   "cell_type": "code",
   "execution_count": 82,
   "metadata": {
    "collapsed": true
   },
   "outputs": [],
   "source": [
    "def getBaGELSSubjectNumber(filename):\n",
    "    subjNumberRegex = re.compile('''\n",
    "    # filename will be something like 'OpenBCI-RAW-BaGELS_sEBR_9001.txt'\n",
    "    # Regex looks for a 4-digit string in the filename\n",
    "    # Separators are inconsistent, so parsing only by continuous digits\n",
    "    (\\d\\d\\d\\d)\n",
    "    ''', re.VERBOSE)\n",
    "\n",
    "    extractSubjNumber = subjNumberRegex.findall(filename)\n",
    "    subjNumber = extractSubjNumber[0]\n",
    "\n",
    "    return subjNumber"
   ]
  },
  {
   "cell_type": "code",
   "execution_count": 83,
   "metadata": {
    "collapsed": true
   },
   "outputs": [],
   "source": [
    "def tsDenoise(df):\n",
    "    '''\n",
    "    Denoise data by making timeseries stationary and removing low & high frequency signal components.\n",
    "    '''\n",
    "    \n",
    "    halfSecond = int(np.max(df[0])/4) # rolling window width used for mean estimation\n",
    "    samplingRate = np.max(df[0]) # extracting sampling rate from max index value   \n",
    "    lowerBoundary = samplingRate*30 # lower cutoff for sEBR recording (exclude first 30 seconds)\n",
    "    upperBoundary = len(df[1])-(lowerBoundary) # upper cutoff for sEBR recording (exclude last 30 seconds)\n",
    "\n",
    "\n",
    "    # Making time series mean stationary to account for signal drift on a second-by-second basis\n",
    "    df1RollingMean = df[1].rolling(window=samplingRate*15).mean() # computing rolling window average\n",
    "    channelOneStationary = df[1] - df1RollingMean # subtracting TS mean from each datapoint\n",
    "    \n",
    "    df2RollingMean = df[2].rolling(window=samplingRate*15).mean()\n",
    "    channelTwoStationary = df[2] - df1RollingMean\n",
    "    \n",
    "    # Discarding first and last 30 seconds of data\n",
    "    channelOneRelevant = channelOneStationary[lowerBoundary:upperBoundary] # dropping first and last 30 seconds\n",
    "    \n",
    "    channelTwoRelevant = channelTwoStationary[lowerBoundary:upperBoundary]\n",
    "    \n",
    "    # fft to remove unwanted frequencies\n",
    "    channelOneNorm_fft = np.fft.fft(channelOneRelevant) # taking TS to freq space\n",
    "    channelOneNorm_fft[0:1] = 0 # removing low frequencies\n",
    "    channelOneNorm_fft[2000:] = 0 # removing high frequencies\n",
    "    channelOneNorm_ifft = np.fft.ifft(channelOneNorm_fft) # taking TS back to native space\n",
    "\n",
    "    channelTwoNorm_fft = np.fft.fft(channelTwoRelevant)\n",
    "    channelTwoNorm_fft[0:1] = 0\n",
    "    channelTwoNorm_fft[2000:] = 0\n",
    "    channelTwoNorm_ifft = np.fft.ifft(channelTwoNorm_fft)\n",
    "\n",
    "    channelOneTwo_ifft = pd.DataFrame(channelOneNorm_ifft) # creating Pandas DF to use rolling window later\n",
    "    channelOneTwo_ifft[1] = channelTwoNorm_ifft # adding channel two data into DF\n",
    "    \n",
    "    return channelOneTwo_ifft"
   ]
  },
  {
   "cell_type": "code",
   "execution_count": 84,
   "metadata": {
    "scrolled": false
   },
   "outputs": [],
   "source": [
    "%%capture\n",
    "# Counting blinks for all .txt files in data directory. \n",
    "# Creates .csv with subject number and blinks for each channel, saved in root directory. \n",
    "subjectNumberList = []\n",
    "channelOneBlinkList = []\n",
    "channelTwoBlinkList = []\n",
    "for folderName, subfolders, filenames in os.walk(dataFolder):\n",
    "\n",
    "    for file in filenames:\n",
    "        if file.endswith('.py'):\n",
    "            pass\n",
    "        elif file.endswith('.ipynb'):\n",
    "            pass\n",
    "        elif file.endswith('.txt'):\n",
    "            raw = pd.read_table(dataFolder + file, sep = ',', skiprows=6, header=None)\n",
    "\n",
    "            if project == 'BaGELS':\n",
    "                subjectNo = getBaGELSSubjectNumber(file)\n",
    "                subjectNumberList.append(subjectNo)\n",
    "            else:\n",
    "                subjectNo = getSubjectNumber(file)\n",
    "                subjectNumberList.append(subjectNo)\n",
    "            \n",
    "            processed = tsDenoise(raw)\n",
    "            \n",
    "            channelOnePeaksIndexes = peakutils.indexes(processed[0], min_dist=25, thres=0.75)\n",
    "            channelTwoPeaksIndexes = peakutils.indexes(processed[1], min_dist=25, thres=0.75)\n",
    "            \n",
    "            channelOneBlinks = len(channelOnePeaksIndexes)\n",
    "            channelTwoBlinks = len(channelTwoPeaksIndexes)\n",
    "            channelOneBlinkList.append(channelOneBlinks)\n",
    "            channelTwoBlinkList.append(channelTwoBlinks)\n",
    "            \n",
    "            \n",
    "            # Plotting timeseries\n",
    "        \n",
    "            if not os.path.exists('./tsPlots'):\n",
    "                os.makedirs('./tsPlots')\n",
    "            \n",
    "            x = np.arange(len(processed[0]))\n",
    "            y = processed[0]\n",
    "            plt.figure(figsize=(30,10))\n",
    "            pplot(x, y, channelOnePeaksIndexes)\n",
    "            savefig('./tsPlots/' + subjectNo + '_channelOne.png')\n",
    "            plt.close()\n",
    "\n",
    "            x = np.arange(len(processed[1]))\n",
    "            y = processed[1]            \n",
    "            plt.figure(figsize=(30,10))\n",
    "            pplot(x, y, channelTwoPeaksIndexes)\n",
    "            savefig('./tsPlots/' + subjectNo + '_channelTwo.png')\n",
    "            plt.close()            \n",
    "\n",
    "\n",
    "currentDateTime = time.strftime(\"%m.%d.%Y_%H.%M%p\")\n",
    "filename = './getBlinks_output_' + currentDateTime + '.csv'\n",
    "blinkOutput = open(filename, 'w')\n",
    "\n",
    "blinkOutput.write('SubjectNo' + ',' + 'channelOneBlinks' + ',' + 'channelTwoBlinks' + '\\n')\n",
    "zipped = zip(subjectNumberList, channelOneBlinkList, channelTwoBlinkList)\n",
    "for i, j, k in zipped:\n",
    "    blinkOutput.write(str(i) + ',' + str(j) + ',' + str(k) + '\\n')\n",
    "blinkOutput.close()\n",
    "\n",
    "print('sEBR count finished. Please check root folder for output.')"
   ]
  }
 ],
 "metadata": {
  "kernelspec": {
   "display_name": "Python [conda env:Py3.5]",
   "language": "python",
   "name": "conda-env-Py3.5-py"
  },
  "language_info": {
   "codemirror_mode": {
    "name": "ipython",
    "version": 3
   },
   "file_extension": ".py",
   "mimetype": "text/x-python",
   "name": "python",
   "nbconvert_exporter": "python",
   "pygments_lexer": "ipython3",
   "version": "3.5.2"
  }
 },
 "nbformat": 4,
 "nbformat_minor": 1
}
