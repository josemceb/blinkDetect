{
 "cells": [
  {
   "cell_type": "code",
   "execution_count": 10,
   "metadata": {
    "collapsed": true
   },
   "outputs": [],
   "source": [
    "import numpy as np\n",
    "import pandas as pd\n",
    "import matplotlib.pyplot as plt\n",
    "from pylab import savefig\n",
    "import re\n",
    "import time\n",
    "import os"
   ]
  },
  {
   "cell_type": "code",
   "execution_count": 11,
   "metadata": {
    "collapsed": true
   },
   "outputs": [],
   "source": [
    "from IPython.core.interactiveshell import InteractiveShell\n",
    "InteractiveShell.ast_node_interactivity = \"all\""
   ]
  },
  {
   "cell_type": "code",
   "execution_count": 12,
   "metadata": {
    "collapsed": true
   },
   "outputs": [],
   "source": [
    "%matplotlib inline\n",
    "%config InlineBackend.figure_format = 'retina'"
   ]
  },
  {
   "cell_type": "code",
   "execution_count": 13,
   "metadata": {
    "collapsed": true
   },
   "outputs": [],
   "source": [
    "project = 'other' # or 'other' for uCLIMB, etc. \n",
    "\n",
    "dataFolder = './SavedDataUCLIMB/'"
   ]
  },
  {
   "cell_type": "code",
   "execution_count": 14,
   "metadata": {
    "collapsed": true
   },
   "outputs": [],
   "source": [
    "def getSubjectNumber(filename):\n",
    "    subjNumberRegex = re.compile('''\n",
    "    # filename will be something like 'OpenBCI-RAW-28211_SBR_Pre1.txt'\n",
    "    # Regex looks for a 5-digit string in the filename\n",
    "    # Separators are inconsistent, so parsing only by continuous digits\n",
    "    (\\d\\d\\d\\d\\d)\n",
    "    ''', re.VERBOSE)\n",
    "\n",
    "    extractSubjNumber = subjNumberRegex.findall(filename)\n",
    "    subjNumber = extractSubjNumber[0]\n",
    "\n",
    "    return subjNumber"
   ]
  },
  {
   "cell_type": "code",
   "execution_count": 15,
   "metadata": {
    "collapsed": true
   },
   "outputs": [],
   "source": [
    "def getBaGELSSubjectNumber(filename):\n",
    "    subjNumberRegex = re.compile('''\n",
    "    # filename will be something like 'OpenBCI-RAW-BaGELS_sEBR_9001.txt'\n",
    "    # Regex looks for a 4-digit string in the filename\n",
    "    # Separators are inconsistent, so parsing only by continuous digits\n",
    "    (\\d\\d\\d\\d)\n",
    "    ''', re.VERBOSE)\n",
    "\n",
    "    extractSubjNumber = subjNumberRegex.findall(filename)\n",
    "    subjNumber = extractSubjNumber[0]\n",
    "\n",
    "    return subjNumber"
   ]
  },
  {
   "cell_type": "code",
   "execution_count": 16,
   "metadata": {
    "collapsed": true
   },
   "outputs": [],
   "source": [
    "def blinkDetect(DataFrame):\n",
    "    '''\n",
    "    Preprocesses time series data and counts blink individually for channels one and two.\n",
    "    '''\n",
    "\n",
    "    halfSecond = int(np.max(raw[0])/4) # rolling window width used for mean estimation\n",
    "    samplingRate = np.max(raw[0]) # extracting sampling rate from max index value   \n",
    "    lowerBoundary = samplingRate*30 # lower cutoff for sEBR recording (exclude first 30 seconds)\n",
    "    upperBoundary = len(raw[1])-(lowerBoundary) # upper cutoff for sEBR recording (exclude last 30 seconds)\n",
    "\n",
    "\n",
    "    # Making time series mean stationary to account for signal drift on a second-by-second basis\n",
    "    raw1RollingMean = raw[1].rolling(window=samplingRate).mean() # computing rolling window average\n",
    "    channelOneStationary = raw[1] - raw1RollingMean # subtracting TS mean from each datapoint\n",
    "    \n",
    "    raw2RollingMean = raw[2].rolling(window=samplingRate).mean()\n",
    "    channelTwoStationary = raw[2] - raw1RollingMean\n",
    "    \n",
    "    # Discarding first and last 30 seconds of data\n",
    "    channelOneRelevant = channelOneStationary[lowerBoundary:upperBoundary] # dropping first and last 30 seconds\n",
    "    \n",
    "    channelTwoRelevant = channelTwoStationary[lowerBoundary:upperBoundary]\n",
    "    \n",
    "    # fft to remove unwanted frequencies\n",
    "    channelOneNorm_fft = np.fft.fft(channelOneRelevant) # taking TS to freq space\n",
    "    channelOneNorm_fft[0:1] = 0 # removing low frequencies\n",
    "    channelOneNorm_fft[2500:] = 0 # removing high frequencies\n",
    "    channelOneNorm_ifft = np.fft.ifft(channelOneNorm_fft) # taking TS back to native space\n",
    "\n",
    "    channelTwoNorm_fft = np.fft.fft(channelTwoRelevant)\n",
    "    channelTwoNorm_fft[0:1] = 0\n",
    "    channelTwoNorm_fft[2500:] = 0\n",
    "    channelTwoNorm_ifft = np.fft.ifft(channelTwoNorm_fft)\n",
    "\n",
    "    channelOneTwo_ifft = pd.DataFrame(channelOneNorm_ifft) # creating Pandas DF to use rolling window later\n",
    "    channelOneTwo_ifft[1] = channelTwoNorm_ifft # adding channel two data into DF\n",
    "\n",
    "    # Algorithm: Using Channels one and two to find blinks, while discarding first and last 30 seconds of data\n",
    "    r = channelOneTwo_ifft.rolling(window=50).var() # rolling window using variance \n",
    "    \n",
    "    channelOneThreshold = np.mean(r[0][lowerBoundary:upperBoundary])*2.5 # setting threshold for blink\n",
    "    channelTwoThreshold = np.mean(r[1][lowerBoundary:upperBoundary])*2.5 # TODO: Chat with AS/CP about arbitrary thresholding\n",
    "    \n",
    "    channelOneBlinks = 0\n",
    "    channelTwoBlinks = 0\n",
    "\n",
    "    for i in range(len(channelOneTwo_ifft)):\n",
    "        if r[0][i] > channelOneThreshold:\n",
    "            channelOneBlinks += 1\n",
    "    for i in range(len(channelOneTwo_ifft)):\n",
    "        if r[1][i] > channelTwoThreshold:\n",
    "            channelTwoBlinks += 1\n",
    "    \n",
    "    channelOneBlinksRounded = round(channelOneBlinks/(samplingRate/4)) # \n",
    "    channelTwoBlinksRounded = round(channelTwoBlinks/(samplingRate/4))\n",
    "    return channelOneBlinksRounded, channelTwoBlinksRounded"
   ]
  },
  {
   "cell_type": "code",
   "execution_count": 17,
   "metadata": {
    "collapsed": true
   },
   "outputs": [],
   "source": [
    "def plotTimeSeries(DataFrame, subjectNo):\n",
    "    '''\n",
    "    Plots preprocessed time series data that is used to count blinks. Saves plots to a new \"TSplots\" directory in the root folder.\n",
    "    '''\n",
    "    halfSecond = int(np.max(raw[0])/4) # rolling window width used for mean estimation\n",
    "    samplingRate = np.max(raw[0]) # extracting sampling rate from max index value   \n",
    "    lowerBoundary = samplingRate*30 # lower cutoff for sEBR recording (exclude first 30 seconds)\n",
    "    upperBoundary = len(raw[1])-(lowerBoundary) # upper cutoff for sEBR recording (exclude last 30 seconds)\n",
    "    \n",
    "    if not os.path.exists('./TSplots'):\n",
    "        os.makedirs('./TSplots')\n",
    "    \n",
    "    raw1RollingMean = raw[1].rolling(window=samplingRate).mean() # computing rolling window average\n",
    "    channelOneStationary = pd.DataFrame(raw[1] - raw1RollingMean) # subtracting TS mean from each datapoint\n",
    "    \n",
    "    raw2RollingMean = raw[2].rolling(window=samplingRate).mean()\n",
    "    channelTwoStationary = pd.DataFrame(raw[2] - raw1RollingMean)\n",
    "    \n",
    "    # TODO: plot denoised data\n",
    "    \n",
    "    channelOneStationary[lowerBoundary:upperBoundary].plot(figsize=(20,10))   \n",
    "    savefig('./TSplots/' + subjectNo + '_channelOne.png')\n",
    "    plt.close()\n",
    "    \n",
    "    channelTwoStationary[lowerBoundary:upperBoundary].plot(figsize=(20,10))   \n",
    "    savefig('./TSplots/' + subjectNo + '_channelTwo.png')\n",
    "    plt.close()"
   ]
  },
  {
   "cell_type": "code",
   "execution_count": 18,
   "metadata": {
    "scrolled": false
   },
   "outputs": [],
   "source": [
    "%%capture\n",
    "# Counting blinks for all .txt files in data directory. \n",
    "# Creates .csv with subject number and blinks for each channel, saved in root directory. \n",
    "subjectNumberList = []\n",
    "channelOneBlinkList = []\n",
    "channelTwoBlinkList = []\n",
    "for folderName, subfolders, filenames in os.walk(dataFolder):\n",
    "\n",
    "    for file in filenames:\n",
    "        if file.endswith('.py'):\n",
    "            pass\n",
    "        elif file.endswith('.ipynb'):\n",
    "            pass\n",
    "        elif file.endswith('.txt'):\n",
    "            print(file) # Trobleshoot\n",
    "            raw = pd.read_table(dataFolder + file, sep = ',', skiprows=6, header=None)\n",
    "\n",
    "            if project == 'BaGELS':\n",
    "                subjectNo = getBaGELSSubjectNumber(file)\n",
    "                subjectNumberList.append(subjectNo)\n",
    "            else:\n",
    "                subjectNo = getSubjectNumber(file)\n",
    "                subjectNumberList.append(subjectNo)\n",
    "            \n",
    "            plotTimeSeries(raw, subjectNo)\n",
    "            \n",
    "            channelOneBlinks, channelTwoBlinks = blinkDetect(raw)\n",
    "            channelOneBlinkList.append(channelOneBlinks)\n",
    "            channelTwoBlinkList.append(channelTwoBlinks)\n",
    "\n",
    "currentDateTime = time.strftime(\"%m.%d.%Y_%H.%M%p\")\n",
    "filename = './getBlinks_output_' + currentDateTime + '.csv'\n",
    "blinkOutput = open(filename, 'w')\n",
    "\n",
    "blinkOutput.write('SubjectNo' + ',' + 'channelOneBlinks' + ',' + 'channelTwoBlinks' + '\\n')\n",
    "zipped = zip(subjectNumberList, channelOneBlinkList, channelTwoBlinkList)\n",
    "for i, j, k in zipped:\n",
    "    blinkOutput.write(str(i) + ',' + str(j) + ',' + str(k) + '\\n')\n",
    "blinkOutput.close()\n",
    "\n",
    "print('sEBR count finished. Please check root folder for output.')"
   ]
  }
 ],
 "metadata": {
  "kernelspec": {
   "display_name": "Python [conda env:Py3.5]",
   "language": "python",
   "name": "conda-env-Py3.5-py"
  },
  "language_info": {
   "codemirror_mode": {
    "name": "ipython",
    "version": 3
   },
   "file_extension": ".py",
   "mimetype": "text/x-python",
   "name": "python",
   "nbconvert_exporter": "python",
   "pygments_lexer": "ipython3",
   "version": "3.5.2"
  }
 },
 "nbformat": 4,
 "nbformat_minor": 1
}
